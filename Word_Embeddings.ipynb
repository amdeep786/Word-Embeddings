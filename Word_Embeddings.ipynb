{
  "nbformat": 4,
  "nbformat_minor": 0,
  "metadata": {
    "colab": {
      "name": "Word_Embeddings.ipynb",
      "provenance": [],
      "collapsed_sections": []
    },
    "kernelspec": {
      "name": "python3",
      "display_name": "Python 3"
    },
    "accelerator": "GPU"
  },
  "cells": [
    {
      "cell_type": "code",
      "metadata": {
        "id": "t3WvHkj1bLkl"
      },
      "source": [
        "import tensorflow as tf\n",
        "import numpy as np\n",
        "from tensorflow import keras\n",
        "from tensorflow.keras import layers"
      ],
      "execution_count": null,
      "outputs": []
    },
    {
      "cell_type": "code",
      "metadata": {
        "id": "W0ev7Swrr4ds"
      },
      "source": [
        "embedding_layer = layers.Embedding(1000,5)"
      ],
      "execution_count": null,
      "outputs": []
    },
    {
      "cell_type": "code",
      "metadata": {
        "id": "a2RU4rWdsq9I",
        "colab": {
          "base_uri": "https://localhost:8080/"
        },
        "outputId": "113cfeb8-eb5b-41c1-c970-240ed3ba5ec1"
      },
      "source": [
        "result = embedding_layer( np.array([3, 1, 4]) )\n",
        "print(result.numpy())"
      ],
      "execution_count": null,
      "outputs": [
        {
          "output_type": "stream",
          "text": [
            "[[ 0.00816163  0.0288089  -0.03766399 -0.03581486  0.01124399]\n",
            " [ 0.03279256 -0.02649897  0.00642617 -0.00410575  0.03361071]\n",
            " [ 0.04128258 -0.03844526 -0.01268597 -0.019815    0.02407077]]\n"
          ],
          "name": "stdout"
        }
      ]
    },
    {
      "cell_type": "code",
      "metadata": {
        "id": "IdpAsxwMuQ_r",
        "colab": {
          "base_uri": "https://localhost:8080/"
        },
        "outputId": "3503ea6c-c7f4-4b45-f1ac-d4a2f67bb13b"
      },
      "source": [
        "feeding = embedding_layer(np.zeros((64,15),dtype=int))\n",
        "print(feeding.numpy())"
      ],
      "execution_count": null,
      "outputs": [
        {
          "output_type": "stream",
          "text": [
            "[[[ 0.01032776 -0.04555292 -0.02859346  0.04983025 -0.00048564]\n",
            "  [ 0.01032776 -0.04555292 -0.02859346  0.04983025 -0.00048564]\n",
            "  [ 0.01032776 -0.04555292 -0.02859346  0.04983025 -0.00048564]\n",
            "  ...\n",
            "  [ 0.01032776 -0.04555292 -0.02859346  0.04983025 -0.00048564]\n",
            "  [ 0.01032776 -0.04555292 -0.02859346  0.04983025 -0.00048564]\n",
            "  [ 0.01032776 -0.04555292 -0.02859346  0.04983025 -0.00048564]]\n",
            "\n",
            " [[ 0.01032776 -0.04555292 -0.02859346  0.04983025 -0.00048564]\n",
            "  [ 0.01032776 -0.04555292 -0.02859346  0.04983025 -0.00048564]\n",
            "  [ 0.01032776 -0.04555292 -0.02859346  0.04983025 -0.00048564]\n",
            "  ...\n",
            "  [ 0.01032776 -0.04555292 -0.02859346  0.04983025 -0.00048564]\n",
            "  [ 0.01032776 -0.04555292 -0.02859346  0.04983025 -0.00048564]\n",
            "  [ 0.01032776 -0.04555292 -0.02859346  0.04983025 -0.00048564]]\n",
            "\n",
            " [[ 0.01032776 -0.04555292 -0.02859346  0.04983025 -0.00048564]\n",
            "  [ 0.01032776 -0.04555292 -0.02859346  0.04983025 -0.00048564]\n",
            "  [ 0.01032776 -0.04555292 -0.02859346  0.04983025 -0.00048564]\n",
            "  ...\n",
            "  [ 0.01032776 -0.04555292 -0.02859346  0.04983025 -0.00048564]\n",
            "  [ 0.01032776 -0.04555292 -0.02859346  0.04983025 -0.00048564]\n",
            "  [ 0.01032776 -0.04555292 -0.02859346  0.04983025 -0.00048564]]\n",
            "\n",
            " ...\n",
            "\n",
            " [[ 0.01032776 -0.04555292 -0.02859346  0.04983025 -0.00048564]\n",
            "  [ 0.01032776 -0.04555292 -0.02859346  0.04983025 -0.00048564]\n",
            "  [ 0.01032776 -0.04555292 -0.02859346  0.04983025 -0.00048564]\n",
            "  ...\n",
            "  [ 0.01032776 -0.04555292 -0.02859346  0.04983025 -0.00048564]\n",
            "  [ 0.01032776 -0.04555292 -0.02859346  0.04983025 -0.00048564]\n",
            "  [ 0.01032776 -0.04555292 -0.02859346  0.04983025 -0.00048564]]\n",
            "\n",
            " [[ 0.01032776 -0.04555292 -0.02859346  0.04983025 -0.00048564]\n",
            "  [ 0.01032776 -0.04555292 -0.02859346  0.04983025 -0.00048564]\n",
            "  [ 0.01032776 -0.04555292 -0.02859346  0.04983025 -0.00048564]\n",
            "  ...\n",
            "  [ 0.01032776 -0.04555292 -0.02859346  0.04983025 -0.00048564]\n",
            "  [ 0.01032776 -0.04555292 -0.02859346  0.04983025 -0.00048564]\n",
            "  [ 0.01032776 -0.04555292 -0.02859346  0.04983025 -0.00048564]]\n",
            "\n",
            " [[ 0.01032776 -0.04555292 -0.02859346  0.04983025 -0.00048564]\n",
            "  [ 0.01032776 -0.04555292 -0.02859346  0.04983025 -0.00048564]\n",
            "  [ 0.01032776 -0.04555292 -0.02859346  0.04983025 -0.00048564]\n",
            "  ...\n",
            "  [ 0.01032776 -0.04555292 -0.02859346  0.04983025 -0.00048564]\n",
            "  [ 0.01032776 -0.04555292 -0.02859346  0.04983025 -0.00048564]\n",
            "  [ 0.01032776 -0.04555292 -0.02859346  0.04983025 -0.00048564]]]\n"
          ],
          "name": "stdout"
        }
      ]
    },
    {
      "cell_type": "markdown",
      "metadata": {
        "id": "uHWgPBaS5_di"
      },
      "source": [
        "## Next Word Prediction\n"
      ]
    },
    {
      "cell_type": "code",
      "metadata": {
        "id": "nfKpRufwo_nG",
        "colab": {
          "base_uri": "https://localhost:8080/"
        },
        "outputId": "5388e530-9f3b-4218-e88b-e07c25548b88"
      },
      "source": [
        "import requests, os, zipfile\n",
        "import numpy as np\n",
        "\n",
        "def download_file_from_google_drive(id, destination):\n",
        "    URL = \"https://docs.google.com/uc?export=download\"\n",
        "    session = requests.Session()\n",
        "    response = session.get(URL, params = { 'id' : id }, stream = True)\n",
        "    token = get_confirm_token(response)\n",
        "    if token:\n",
        "        params = { 'id' : id, 'confirm' : token }\n",
        "        response = session.get(URL, params = params, stream = True)\n",
        "    save_response_content(response, destination)    \n",
        "\n",
        "def get_confirm_token(response):\n",
        "    for key, value in response.cookies.items():\n",
        "        if key.startswith('download_warning'):\n",
        "            return value\n",
        "    return None\n",
        "\n",
        "def save_response_content(response, destination):\n",
        "    CHUNK_SIZE = 32768\n",
        "    with open(destination, \"wb\") as f:\n",
        "        for chunk in response.iter_content(CHUNK_SIZE):\n",
        "            if chunk: \n",
        "                f.write(chunk)\n",
        "    \n",
        "dataset_file = '/tmp/tweets.csv'\n",
        "download_file_from_google_drive('1xRKHaP-QwACMydlDnyFPEaFdtskJuBa6', dataset_file)\n",
        "\n",
        "import pandas as pd\n",
        "\n",
        "tweets = pd.read_csv(dataset_file, )\n",
        "tweets.head()\n",
        "\n",
        "#data preprocessing\n",
        "print('Initial amount of Tweets:',len(tweets))\n",
        "tweets.drop(tweets[tweets.isRetweet == 't'].index, inplace=True)\n",
        "tweets.drop(tweets[tweets.favorites < 1e4].index, inplace=True)\n",
        "tweets.text = tweets.text.str.lower()\n",
        "tweets.text.replace(regex=r'https?:\\/\\/(www\\.)?[-a-z0-9@:%._\\+~#=]{1,256}\\.[a-z0-9()]{1,6}\\b([-a-z0-9()@:%_\\+.~#?&\\/=]*)', value='', inplace=True)\n",
        "\n",
        "tweets.text.replace(regex=r'#\\w+', value='', inplace=True)\n",
        "tweets.text.replace('&amp;', '&', inplace=True, regex=True)\n",
        "\n",
        "tweets.drop(tweets[tweets.text.str.startswith('\"\"\"')].index, inplace=True)\n",
        "tweets.drop(tweets[tweets.text.str.startswith('\"via ')].index, inplace=True)\n",
        "tweets.text.replace(regex=r'[^a-z0-9,. ]', value='', inplace=True)\n",
        "tweets.drop(tweets[tweets.text.str.startswith('    ')].index, inplace=True)\n",
        "tweets.drop(tweets[tweets.text.map(len) < 50].index, inplace=True)\n",
        "print('Remaining Tweets:',len(tweets))\n",
        "\n",
        "tweets = tweets.text.to_list()"
      ],
      "execution_count": null,
      "outputs": [
        {
          "output_type": "stream",
          "text": [
            "Initial amount of Tweets: 56571\n",
            "Remaining Tweets: 14688\n"
          ],
          "name": "stdout"
        }
      ]
    },
    {
      "cell_type": "code",
      "metadata": {
        "id": "KIk04MNdqOtD",
        "colab": {
          "base_uri": "https://localhost:8080/"
        },
        "outputId": "dc789627-374d-4986-dcc5-edc81fb7f634"
      },
      "source": [
        "len(list(set(' '.join(tweets).split(' '))))"
      ],
      "execution_count": null,
      "outputs": [
        {
          "output_type": "execute_result",
          "data": {
            "text/plain": [
              "27253"
            ]
          },
          "metadata": {
            "tags": []
          },
          "execution_count": 7
        }
      ]
    },
    {
      "cell_type": "code",
      "metadata": {
        "id": "1unmh3ZOpNTG"
      },
      "source": [
        "VOCABULARY_SIZE = int(1e4)\n",
        "\n",
        "tokenizer = tf.keras.preprocessing.text.Tokenizer(num_words=VOCABULARY_SIZE,filters='!\"“#$%&()*+.,-/:;=?@[]^_`{|}~ \\t\\n',lower=True,split=' ',oov_token=\"<unk>\")\n",
        "tokenizer.fit_on_texts(tweets)"
      ],
      "execution_count": null,
      "outputs": []
    },
    {
      "cell_type": "code",
      "metadata": {
        "id": "6xFLj9Aupa_K",
        "colab": {
          "base_uri": "https://localhost:8080/"
        },
        "outputId": "323abbf1-cbfc-4c1f-dc54-7c37a1cb601a"
      },
      "source": [
        "tokenizer.word_index['<pad>'] = 0\n",
        "tokenizer.index_word[0] = '<pad>'\n",
        "\n",
        "print(list(tokenizer.index_word.items())[:10])"
      ],
      "execution_count": null,
      "outputs": [
        {
          "output_type": "stream",
          "text": [
            "[(1, '<unk>'), (2, 'the'), (3, 'to'), (4, 'and'), (5, 'of'), (6, 'a'), (7, 'in'), (8, 'is'), (9, 'for'), (10, 'i')]\n"
          ],
          "name": "stdout"
        }
      ]
    },
    {
      "cell_type": "code",
      "metadata": {
        "id": "DAVVhojYtbEU"
      },
      "source": [
        "sequences =  tokenizer.texts_to_sequences(tweets)\n",
        "sequences = tf.keras.preprocessing.sequence.pad_sequences(sequences, padding='post',value=0)"
      ],
      "execution_count": null,
      "outputs": []
    },
    {
      "cell_type": "code",
      "metadata": {
        "id": "oUl77goQtbG_",
        "colab": {
          "base_uri": "https://localhost:8080/"
        },
        "outputId": "6b27385b-14d7-4520-c843-9b45e227dc0f"
      },
      "source": [
        "sequence_length = sequences.shape[1]\n",
        "print('Max sequence length:', sequence_length)"
      ],
      "execution_count": null,
      "outputs": [
        {
          "output_type": "stream",
          "text": [
            "Max sequence length: 61\n"
          ],
          "name": "stdout"
        }
      ]
    },
    {
      "cell_type": "code",
      "metadata": {
        "id": "bokbiU11xTXy",
        "colab": {
          "base_uri": "https://localhost:8080/"
        },
        "outputId": "4eedb9ef-d295-4bd8-c95f-1c8ff6186669"
      },
      "source": [
        "BATCH_SIZE = 64\n",
        "BUFFER_SIZE = 10000\n",
        "EMBEDDING_DIM = 16\n",
        "\n",
        "def split_input_target(sequence):\n",
        "  input_sequence = sequence[:-1]\n",
        "  target_sequence = sequence[1:]\n",
        "  return input_sequence, target_sequence\n",
        "\n",
        "dataset = tf.data.Dataset.from_tensor_slices(sequences)\n",
        "dataset = dataset.map(split_input_target)\n",
        "\n",
        "dataset = dataset.shuffle(BUFFER_SIZE).batch(BATCH_SIZE, drop_remainder=True)\n",
        "print(dataset)"
      ],
      "execution_count": null,
      "outputs": [
        {
          "output_type": "stream",
          "text": [
            "<BatchDataset shapes: ((64, 60), (64, 60)), types: (tf.int32, tf.int32)>\n"
          ],
          "name": "stdout"
        }
      ]
    },
    {
      "cell_type": "code",
      "metadata": {
        "id": "VqsWt7j3yTva"
      },
      "source": [
        "from tensorflow.keras import layers, Model\n",
        "from tensorflow.keras.optimizers import Adam\n",
        "\n",
        "def build_model_gru(vocabulary_size, embedding_dim, batch_size, sequence_length, summary=True):\n",
        "  \n",
        "  inputs = layers.Input(batch_input_shape=(batch_size, sequence_length-1,))\n",
        "  \n",
        "  x = layers.Embedding(vocabulary_size,\n",
        "                       embedding_dim)(inputs)\n",
        "  x = layers.GRU(128,\n",
        "                 return_sequences=True,\n",
        "                 stateful=True,\n",
        "                 )(x)\n",
        "  x = layers.Dropout(.2)(x)\n",
        "  out = layers.Dense(vocabulary_size, \n",
        "                     activation='softmax'\n",
        "                     )(x)\n",
        "\n",
        "  model = Model(inputs, out, name='next_character_prediction')\n",
        "  model.compile(loss='sparse_categorical_crossentropy',\n",
        "                optimizer=Adam(lr=1e-3),\n",
        "                metrics='accuracy')\n",
        "  \n",
        "  if summary:\n",
        "    print(model.summary())\n",
        "  \n",
        "  return model\n",
        "\n",
        "EarlyStoppingCallback = tf.keras.callbacks.EarlyStopping(monitor='loss', \n",
        "                                                         patience=5, \n",
        "                                                         restore_best_weights=True)"
      ],
      "execution_count": null,
      "outputs": []
    },
    {
      "cell_type": "code",
      "metadata": {
        "id": "tEJecYKv-QJ6"
      },
      "source": [
        "from matplotlib import pyplot as plt\n",
        "\n",
        "def plot_history(history, ylim=None):\n",
        "  fig, (ax1, ax2) = plt.subplots(2,1, sharex=True, dpi=150)\n",
        "  ax1.plot(np.array(history.epoch)+1, history.history['loss'])\n",
        "  ax1.set_ylabel('Cross-Entropy Loss')\n",
        "  ax1.set_yscale('log')\n",
        "  ax1.grid(alpha=.5)\n",
        "  if history.history.__contains__('lr'):\n",
        "    ax1b = ax1.twinx()\n",
        "    ax1b.plot(history.history['lr'], 'g-', linewidth=1)\n",
        "    ax1b.set_yscale('log')\n",
        "    ax1b.set_ylabel('Learning Rate', color='g')\n",
        "\n",
        "  ax2.plot(np.array(history.epoch)+1, history.history['accuracy'])\n",
        "  ax2.set_ylabel('Accuracy')\n",
        "  ax2.set_xlabel('Epochs')\n",
        "  ax2.grid(alpha=.5)\n",
        "  if ylim:\n",
        "    ax2.set_ylim(ylim)\n",
        "  plt.show() "
      ],
      "execution_count": null,
      "outputs": []
    },
    {
      "cell_type": "code",
      "metadata": {
        "id": "OpaQq1jtyT0S",
        "colab": {
          "base_uri": "https://localhost:8080/",
          "height": 1000
        },
        "outputId": "15f310d8-20d2-4dc7-d4c1-64e2cbb3fdbf"
      },
      "source": [
        "gru_model = build_model_gru(VOCABULARY_SIZE, EMBEDDING_DIM, BATCH_SIZE, sequence_length)\n",
        "gru_history = gru_model.fit(dataset, \n",
        "                            epochs=50,\n",
        "                            callbacks=[EarlyStoppingCallback]\n",
        "                            )\n",
        "plot_history(gru_history)"
      ],
      "execution_count": null,
      "outputs": [
        {
          "output_type": "stream",
          "text": [
            "/usr/local/lib/python3.7/dist-packages/tensorflow/python/keras/optimizer_v2/optimizer_v2.py:375: UserWarning: The `lr` argument is deprecated, use `learning_rate` instead.\n",
            "  \"The `lr` argument is deprecated, use `learning_rate` instead.\")\n"
          ],
          "name": "stderr"
        },
        {
          "output_type": "stream",
          "text": [
            "Model: \"next_character_prediction\"\n",
            "_________________________________________________________________\n",
            "Layer (type)                 Output Shape              Param #   \n",
            "=================================================================\n",
            "input_1 (InputLayer)         [(64, 60)]                0         \n",
            "_________________________________________________________________\n",
            "embedding_1 (Embedding)      (64, 60, 16)              160000    \n",
            "_________________________________________________________________\n",
            "gru (GRU)                    (64, 60, 128)             56064     \n",
            "_________________________________________________________________\n",
            "dropout (Dropout)            (64, 60, 128)             0         \n",
            "_________________________________________________________________\n",
            "dense (Dense)                (64, 60, 10000)           1290000   \n",
            "=================================================================\n",
            "Total params: 1,506,064\n",
            "Trainable params: 1,506,064\n",
            "Non-trainable params: 0\n",
            "_________________________________________________________________\n",
            "None\n",
            "Epoch 1/50\n",
            "229/229 [==============================] - 16s 37ms/step - loss: 4.6156 - accuracy: 0.5026\n",
            "Epoch 2/50\n",
            "229/229 [==============================] - 9s 37ms/step - loss: 4.0535 - accuracy: 0.5064\n",
            "Epoch 3/50\n",
            "229/229 [==============================] - 9s 37ms/step - loss: 3.9942 - accuracy: 0.5062\n",
            "Epoch 4/50\n",
            "229/229 [==============================] - 9s 37ms/step - loss: 3.4047 - accuracy: 0.5178\n",
            "Epoch 5/50\n",
            "229/229 [==============================] - 9s 37ms/step - loss: 3.2755 - accuracy: 0.5248\n",
            "Epoch 6/50\n",
            "229/229 [==============================] - 9s 37ms/step - loss: 3.2062 - accuracy: 0.5288\n",
            "Epoch 7/50\n",
            "229/229 [==============================] - 9s 37ms/step - loss: 3.1193 - accuracy: 0.5393\n",
            "Epoch 8/50\n",
            "229/229 [==============================] - 9s 38ms/step - loss: 3.0396 - accuracy: 0.5483\n",
            "Epoch 9/50\n",
            "229/229 [==============================] - 9s 38ms/step - loss: 2.9664 - accuracy: 0.5557\n",
            "Epoch 10/50\n",
            "229/229 [==============================] - 9s 38ms/step - loss: 2.8963 - accuracy: 0.5613\n",
            "Epoch 11/50\n",
            "229/229 [==============================] - 9s 37ms/step - loss: 2.8344 - accuracy: 0.5666\n",
            "Epoch 12/50\n",
            "229/229 [==============================] - 9s 37ms/step - loss: 2.7827 - accuracy: 0.5703\n",
            "Epoch 13/50\n",
            "229/229 [==============================] - 9s 37ms/step - loss: 2.7354 - accuracy: 0.5738\n",
            "Epoch 14/50\n",
            "229/229 [==============================] - 9s 37ms/step - loss: 2.6930 - accuracy: 0.5773\n",
            "Epoch 15/50\n",
            "229/229 [==============================] - 9s 37ms/step - loss: 2.6560 - accuracy: 0.5800\n",
            "Epoch 16/50\n",
            "229/229 [==============================] - 9s 37ms/step - loss: 2.6222 - accuracy: 0.5820\n",
            "Epoch 17/50\n",
            "229/229 [==============================] - 9s 37ms/step - loss: 2.5911 - accuracy: 0.5840\n",
            "Epoch 18/50\n",
            "229/229 [==============================] - 9s 37ms/step - loss: 2.5596 - accuracy: 0.5863\n",
            "Epoch 19/50\n",
            "229/229 [==============================] - 9s 37ms/step - loss: 2.5339 - accuracy: 0.5877\n",
            "Epoch 20/50\n",
            "229/229 [==============================] - 9s 37ms/step - loss: 2.5089 - accuracy: 0.5892\n",
            "Epoch 21/50\n",
            "229/229 [==============================] - 9s 37ms/step - loss: 2.4857 - accuracy: 0.5907\n",
            "Epoch 22/50\n",
            "229/229 [==============================] - 9s 37ms/step - loss: 2.4648 - accuracy: 0.5916\n",
            "Epoch 23/50\n",
            "229/229 [==============================] - 9s 37ms/step - loss: 2.4437 - accuracy: 0.5932\n",
            "Epoch 24/50\n",
            "229/229 [==============================] - 9s 37ms/step - loss: 2.4256 - accuracy: 0.5944\n",
            "Epoch 25/50\n",
            "229/229 [==============================] - 9s 37ms/step - loss: 2.4074 - accuracy: 0.5954\n",
            "Epoch 26/50\n",
            "229/229 [==============================] - 9s 37ms/step - loss: 2.3901 - accuracy: 0.5966\n",
            "Epoch 27/50\n",
            "229/229 [==============================] - 9s 37ms/step - loss: 2.3741 - accuracy: 0.5975\n",
            "Epoch 28/50\n",
            "229/229 [==============================] - 9s 37ms/step - loss: 2.3602 - accuracy: 0.5982\n",
            "Epoch 29/50\n",
            "229/229 [==============================] - 9s 37ms/step - loss: 2.3459 - accuracy: 0.5993\n",
            "Epoch 30/50\n",
            "229/229 [==============================] - 9s 37ms/step - loss: 2.3324 - accuracy: 0.6000\n",
            "Epoch 31/50\n",
            "229/229 [==============================] - 9s 37ms/step - loss: 2.3087 - accuracy: 0.6017\n",
            "Epoch 33/50\n",
            "229/229 [==============================] - 9s 37ms/step - loss: 2.2955 - accuracy: 0.6025\n",
            "Epoch 34/50\n",
            "229/229 [==============================] - 9s 37ms/step - loss: 2.2847 - accuracy: 0.6033\n",
            "Epoch 35/50\n",
            "229/229 [==============================] - 9s 37ms/step - loss: 2.2752 - accuracy: 0.6038\n",
            "Epoch 36/50\n",
            "229/229 [==============================] - 9s 37ms/step - loss: 2.2634 - accuracy: 0.6051\n",
            "Epoch 37/50\n",
            "229/229 [==============================] - 9s 37ms/step - loss: 2.2543 - accuracy: 0.6052\n",
            "Epoch 38/50\n",
            "229/229 [==============================] - 9s 37ms/step - loss: 2.2446 - accuracy: 0.6066\n",
            "Epoch 39/50\n",
            "229/229 [==============================] - 9s 37ms/step - loss: 2.2366 - accuracy: 0.6068\n",
            "Epoch 40/50\n",
            "229/229 [==============================] - 9s 37ms/step - loss: 2.2271 - accuracy: 0.6077\n",
            "Epoch 41/50\n",
            "229/229 [==============================] - 9s 37ms/step - loss: 2.2189 - accuracy: 0.6089\n",
            "Epoch 42/50\n",
            "229/229 [==============================] - 9s 37ms/step - loss: 2.2115 - accuracy: 0.6093\n",
            "Epoch 43/50\n",
            "229/229 [==============================] - 9s 37ms/step - loss: 2.2024 - accuracy: 0.6099\n",
            "Epoch 44/50\n",
            "229/229 [==============================] - 9s 37ms/step - loss: 2.1946 - accuracy: 0.6106\n",
            "Epoch 45/50\n",
            "229/229 [==============================] - 9s 37ms/step - loss: 2.1883 - accuracy: 0.6112\n",
            "Epoch 46/50\n",
            "229/229 [==============================] - 9s 37ms/step - loss: 2.1820 - accuracy: 0.6118\n",
            "Epoch 47/50\n",
            "229/229 [==============================] - 9s 37ms/step - loss: 2.1739 - accuracy: 0.6123\n",
            "Epoch 48/50\n",
            "229/229 [==============================] - 9s 37ms/step - loss: 2.1686 - accuracy: 0.6128\n",
            "Epoch 49/50\n",
            "229/229 [==============================] - 9s 37ms/step - loss: 2.1625 - accuracy: 0.6136\n",
            "Epoch 50/50\n",
            "229/229 [==============================] - 9s 37ms/step - loss: 2.1560 - accuracy: 0.6139\n"
          ],
          "name": "stdout"
        },
        {
          "output_type": "display_data",
          "data": {
            "image/png": "[encoded data removed]",
            "text/plain": [
              "<Figure size 900x600 with 2 Axes>"
            ]
          },
          "metadata": {
            "tags": [],
            "needs_background": "light"
          }
        }
      ]
    },
    {
      "cell_type": "code",
      "metadata": {
        "id": "nL4LDEV7ELZn",
        "colab": {
          "base_uri": "https://localhost:8080/"
        },
        "outputId": "3c30b5c1-fb78-4714-8517-db01979c15ad"
      },
      "source": [
        "emb_matrix = gru_model.layers[1].get_weights()[0]\n",
        "print(emb_matrix.shape)"
      ],
      "execution_count": null,
      "outputs": [
        {
          "output_type": "stream",
          "text": [
            "(10000, 16)\n"
          ],
          "name": "stdout"
        }
      ]
    },
    {
      "cell_type": "code",
      "metadata": {
        "id": "_hkJKYavWqPj"
      },
      "source": [
        "def get_embedding_vector( word_in, tokenizer, embedding_matrix ):\n",
        "  \n",
        "  assert word_in in tokenizer.word_index.keys(), 'word not in vocabulary: \"{}\"'.format(word_in)\n",
        "  id = tokenizer.word_index[word_in]\n",
        "  emb_vec = embedding_matrix[id]\n",
        "  return emb_vec"
      ],
      "execution_count": null,
      "outputs": []
    },
    {
      "cell_type": "code",
      "metadata": {
        "id": "qoQzFDEMTDvA",
        "colab": {
          "base_uri": "https://localhost:8080/"
        },
        "outputId": "51a8de24-00c4-4c5e-9023-21c950473bcd"
      },
      "source": [
        "len(list(tokenizer.index_word.keys()))"
      ],
      "execution_count": null,
      "outputs": [
        {
          "output_type": "execute_result",
          "data": {
            "text/plain": [
              "16591"
            ]
          },
          "metadata": {
            "tags": []
          },
          "execution_count": 18
        }
      ]
    },
    {
      "cell_type": "code",
      "metadata": {
        "id": "iD0SU1FwD7k3",
        "colab": {
          "base_uri": "https://localhost:8080/"
        },
        "outputId": "2000c84c-7bec-4fa6-e927-5813374724ab"
      },
      "source": [
        "get_embedding_vector('dog', tokenizer, emb_matrix)"
      ],
      "execution_count": null,
      "outputs": [
        {
          "output_type": "execute_result",
          "data": {
            "text/plain": [
              "array([-0.14371186, -0.12646656,  0.05918747, -0.08871305,  0.05486191,\n",
              "       -0.04836854, -0.09572491,  0.03914633, -0.05049417,  0.12990707,\n",
              "        0.15176742,  0.17400157, -0.32697052,  0.15862016,  0.2134231 ,\n",
              "        0.22086574], dtype=float32)"
            ]
          },
          "metadata": {
            "tags": []
          },
          "execution_count": 19
        }
      ]
    },
    {
      "cell_type": "markdown",
      "metadata": {
        "id": "OeKKqlWxViqP"
      },
      "source": [
        "## Word Similarity\n",
        "\n"
      ]
    },
    {
      "cell_type": "code",
      "metadata": {
        "id": "YTVMBBWHVi8q"
      },
      "source": [
        "def cosine_similarity(u, v):\n",
        "  cos_similarity = np.dot(u,v)/(np.linalg.norm(u)*np.linalg.norm(v))\n",
        "\n",
        "  return cos_similarity"
      ],
      "execution_count": null,
      "outputs": []
    },
    {
      "cell_type": "code",
      "metadata": {
        "id": "cr5i2ucUsnH4",
        "colab": {
          "base_uri": "https://localhost:8080/"
        },
        "outputId": "80d2de03-9eb3-4e12-b6d0-3aa826d4eff8"
      },
      "source": [
        "print(cosine_similarity(get_embedding_vector( 'beautiful', tokenizer, emb_matrix ),\n",
        "                        get_embedding_vector( 'wonderful', tokenizer, emb_matrix )))\n",
        "\n",
        "print(cosine_similarity(get_embedding_vector( 'woman', tokenizer, emb_matrix ),\n",
        "                        get_embedding_vector( 'man', tokenizer, emb_matrix )))"
      ],
      "execution_count": null,
      "outputs": [
        {
          "output_type": "stream",
          "text": [
            "0.78959197\n",
            "0.64323074\n"
          ],
          "name": "stdout"
        }
      ]
    },
    {
      "cell_type": "code",
      "metadata": {
        "id": "J2LNV8PqFNJ1",
        "colab": {
          "base_uri": "https://localhost:8080/"
        },
        "outputId": "6573b9df-3b85-4480-c8e1-3baa2f1aa931"
      },
      "source": [
        "def closest_word(word_in, emb_matrix, top_k=5):\n",
        "\n",
        "  word_in_emb = get_embedding_vector(word_in, tokenizer, emb_matrix)\n",
        "  similarity = [ cosine_similarity(w_emb, word_in_emb) for w_emb in emb_matrix ]\n",
        "  idxs = np.argsort( similarity )[::-1][1:top_k+1]\n",
        "\n",
        "  return [ [tokenizer.index_word[i], similarity[i]] for i in idxs ]\n",
        "\n",
        "\n",
        "for word in ['beautiful', 'news']:\n",
        "  print(closest_word(word, emb_matrix))"
      ],
      "execution_count": null,
      "outputs": [
        {
          "output_type": "stream",
          "text": [
            "[['11th', 0.8634861], ['limit', 0.862007], ['nice', 0.85089916], ['wifes', 0.8439427], ['et', 0.8333764]]\n",
            "[['306223', 0.8240227], ['qatar', 0.81878173], ['press', 0.81672484], ['complaint', 0.8080317], ['2020', 0.80415785]]\n"
          ],
          "name": "stdout"
        }
      ]
    },
    {
      "cell_type": "markdown",
      "metadata": {
        "id": "ml9h-Um8VjwR"
      },
      "source": [
        "## Word Analogy\n"
      ]
    },
    {
      "cell_type": "code",
      "metadata": {
        "id": "1ctEG9OSGZ5U"
      },
      "source": [
        "def complete_analogy(word_a, word_b, word_c):\n",
        "\n",
        "  word_a, word_b, word_c = word_a.lower(), word_b.lower(), word_c.lower()\n",
        "\n",
        "  e_a = get_embedding_vector(word_a, tokenizer, emb_matrix)\n",
        "  e_b = get_embedding_vector(word_b, tokenizer, emb_matrix)\n",
        "  e_c = get_embedding_vector(word_c, tokenizer, emb_matrix)\n",
        "  \n",
        "  max_cosine_sim = -100\n",
        "  best_word = None\n",
        "\n",
        "  for w_idx, w in enumerate(emb_matrix):\n",
        "    if (w == [e_a, e_b, e_c]).all(1).any():\n",
        "      continue\n",
        "    cosine_sim = cosine_similarity(e_b-e_a,w-e_c)\n",
        "\n",
        "    if cosine_sim > max_cosine_sim:\n",
        "      max_cosine_sim = cosine_sim\n",
        "      best_word_idx = w_idx\n",
        "\n",
        "      print(cosine_sim, tokenizer.index_word[best_word_idx])\n",
        "      \n",
        "  return tokenizer.index_word[best_word_idx]"
      ],
      "execution_count": null,
      "outputs": []
    },
    {
      "cell_type": "code",
      "metadata": {
        "id": "u-JolLb-GbAY",
        "colab": {
          "base_uri": "https://localhost:8080/"
        },
        "outputId": "c0fe08f5-1cf2-4891-dfd9-5bda00fc83cf"
      },
      "source": [
        "print(complete_analogy('china', 'beijing', 'usa'))\n",
        "\n",
        "print(complete_analogy('man', 'king', 'woman'))"
      ],
      "execution_count": null,
      "outputs": [
        {
          "output_type": "stream",
          "text": [
            "-0.14922173 <pad>\n",
            "0.030969046 <unk>\n",
            "0.08781504 the\n",
            "0.2875895 to\n",
            "0.41564822 of\n",
            "0.46204475 in\n",
            "0.57505035 for\n",
            "0.5823738 protect\n",
            "0.60052216 cut\n",
            "0.7001197 lower\n",
            "lower\n",
            "-0.30983195 <pad>\n",
            "0.5380452 <unk>\n",
            "0.5747308 out\n",
            "0.77932376 state\n",
            "0.84760636 dirty\n",
            "dirty\n"
          ],
          "name": "stdout"
        }
      ]
    },
    {
      "cell_type": "markdown",
      "metadata": {
        "id": "L4nP9FYhcpdf"
      },
      "source": [
        "##GloVe Embedding\n",
        "\n"
      ]
    },
    {
      "cell_type": "code",
      "metadata": {
        "id": "HuSkrbHVmu7T"
      },
      "source": [
        "import requests, os, zipfile\n",
        "import numpy as np\n",
        "\n",
        "def download_file_from_google_drive(id, destination):\n",
        "    URL = \"https://docs.google.com/uc?export=download\"\n",
        "    session = requests.Session()\n",
        "    response = session.get(URL, params = { 'id' : id }, stream = True)\n",
        "    token = get_confirm_token(response)\n",
        "    if token:\n",
        "        params = { 'id' : id, 'confirm' : token }\n",
        "        response = session.get(URL, params = params, stream = True)\n",
        "    save_response_content(response, destination)    \n",
        "\n",
        "def get_confirm_token(response):\n",
        "    for key, value in response.cookies.items():\n",
        "        if key.startswith('download_warning'):\n",
        "            return value\n",
        "    return None\n",
        "\n",
        "def save_response_content(response, destination):\n",
        "    CHUNK_SIZE = 32768\n",
        "    with open(destination, \"wb\") as f:\n",
        "        for chunk in response.iter_content(CHUNK_SIZE):\n",
        "            if chunk: \n",
        "                f.write(chunk)\n",
        "\n",
        "def unzip(file, destination=None):\n",
        "  if not destination or not os.path.isdir(destination):\n",
        "    destination = os.path.dirname(file)\n",
        "  print('unzipping to ',destination)\n",
        "  zip_ref = zipfile.ZipFile(file, 'r')\n",
        "  zip_ref.extractall(destination)\n",
        "  zip_ref.close()\n",
        "\n",
        "\n",
        "data_path = '/tmp/glove'\n",
        "glove_file = os.path.join(data_path, 'glove.6B.50d.txt')\n",
        "!rm -rf $data_path\n",
        "os.makedirs(data_path)\n",
        "\n",
        "download_file_from_google_drive('1JUdsQpf_-fGs8kYA4PBS1rnd0IPZYFVd', glove_file)\n",
        "\n",
        "def read_glove_vecs(glove_file):\n",
        "  with open(glove_file, 'r') as f:\n",
        "    words = set()\n",
        "    word_to_vec_map = {}\n",
        "    \n",
        "    for line in f:\n",
        "      line = line.strip().split()\n",
        "      curr_word = line[0]\n",
        "      words.add(curr_word)\n",
        "      word_to_vec_map[curr_word] = np.array(line[1:], dtype=np.float64)\n",
        "          \n",
        "  return words, word_to_vec_map"
      ],
      "execution_count": null,
      "outputs": []
    },
    {
      "cell_type": "code",
      "metadata": {
        "id": "HHmQji_yqbCH"
      },
      "source": [
        "words, word_to_vec_map = read_glove_vecs(glove_file)"
      ],
      "execution_count": null,
      "outputs": []
    },
    {
      "cell_type": "code",
      "metadata": {
        "id": "SWABnyJgtCSN",
        "colab": {
          "base_uri": "https://localhost:8080/"
        },
        "outputId": "3819e4c9-e984-4939-afd4-0d3f3eb17e16"
      },
      "source": [
        "print(cosine_similarity(word_to_vec_map['beautiful'],\n",
        "                        word_to_vec_map['wonderful'],))\n",
        "\n",
        "print(cosine_similarity(word_to_vec_map['dog'],\n",
        "                        word_to_vec_map['cat'],))\n",
        "\n",
        "print(cosine_similarity(word_to_vec_map['woman'],\n",
        "                        word_to_vec_map['man'],))"
      ],
      "execution_count": null,
      "outputs": [
        {
          "output_type": "stream",
          "text": [
            "0.8296378712614463\n",
            "0.9218005273769252\n",
            "0.886033771849582\n"
          ],
          "name": "stdout"
        }
      ]
    },
    {
      "cell_type": "code",
      "metadata": {
        "id": "AEm6ZQzyZ-Qb"
      },
      "source": [
        "def complete_analogy_glove(word_a, word_b, word_c):\n",
        "\n",
        "  word_a, word_b, word_c = word_a.lower(), word_b.lower(), word_c.lower()\n",
        "\n",
        "  e_a = word_to_vec_map[word_a]\n",
        "  e_b = word_to_vec_map[word_b]\n",
        "  e_c = word_to_vec_map[word_c]\n",
        "  \n",
        "  words = word_to_vec_map.keys()\n",
        "  max_cosine_sim = -100\n",
        "  best_word = None\n",
        "\n",
        "  for w in words:        \n",
        "    if w in [word_a, word_b, word_c] :\n",
        "      continue\n",
        "    cosine_sim = cosine_similarity(e_b - e_a, word_to_vec_map[w] - e_c)\n",
        "    \n",
        "    if cosine_sim > max_cosine_sim:\n",
        "      max_cosine_sim = cosine_sim\n",
        "      best_word = w\n",
        "      \n",
        "  return best_word"
      ],
      "execution_count": null,
      "outputs": []
    },
    {
      "cell_type": "code",
      "metadata": {
        "id": "fRdX57Rshp3N",
        "colab": {
          "base_uri": "https://localhost:8080/",
          "height": 35
        },
        "outputId": "56845448-b048-4a28-93d2-b92fa75e82c1"
      },
      "source": [
        "complete_analogy_glove('king', 'man', 'queen')"
      ],
      "execution_count": null,
      "outputs": [
        {
          "output_type": "execute_result",
          "data": {
            "application/vnd.google.colaboratory.intrinsic+json": {
              "type": "string"
            },
            "text/plain": [
              "'woman'"
            ]
          },
          "metadata": {
            "tags": []
          },
          "execution_count": 29
        }
      ]
    },
    {
      "cell_type": "code",
      "metadata": {
        "id": "D-frwnAow2jP",
        "colab": {
          "base_uri": "https://localhost:8080/"
        },
        "outputId": "ae2e2bd4-62eb-4d1a-f144-643a36096959"
      },
      "source": [
        "def closest_word_glove(embedding_vector, remove_words=[], top_k=5):\n",
        "\n",
        "  vocabulary = list(word_to_vec_map.keys())\n",
        "\n",
        "  for w in remove_words:\n",
        "    vocabulary.remove(w)\n",
        "  w_embeddings = np.array([word_to_vec_map[w] for w in vocabulary])\n",
        "  similarity = [ cosine_similarity(w_emb, embedding_vector) for w_emb in w_embeddings ]\n",
        "  idxs = np.argsort( similarity )[::-1][:top_k]\n",
        "\n",
        "  return [ [vocabulary[i], similarity[i]] for i in idxs ]\n",
        "\n",
        "\n",
        "for word in ['beautiful', 'news']:\n",
        "  print(closest_word_glove(word_to_vec_map[word], [word]))"
      ],
      "execution_count": null,
      "outputs": [
        {
          "output_type": "stream",
          "text": [
            "[['lovely', 0.921088084676833], ['gorgeous', 0.893486407216522], ['wonderful', 0.8296378712614463], ['charming', 0.8249218663752111], ['beauty', 0.8014683990617305]]\n",
            "[['press', 0.8883447788255655], ['interview', 0.849574463576904], ['newspaper', 0.8341822594978636], ['newspapers', 0.828009445659333], ['reported', 0.8237055907435875]]\n"
          ],
          "name": "stdout"
        }
      ]
    }
  ]
}